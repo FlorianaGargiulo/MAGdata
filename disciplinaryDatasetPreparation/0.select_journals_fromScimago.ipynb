{
 "cells": [
  {
   "cell_type": "code",
   "execution_count": 39,
   "metadata": {},
   "outputs": [],
   "source": [
    "import pandas as pd\n",
    "import collections"
   ]
  },
  {
   "cell_type": "markdown",
   "metadata": {},
   "source": [
    "# PREPARE JOURNALS"
   ]
  },
  {
   "cell_type": "code",
   "execution_count": 4,
   "metadata": {},
   "outputs": [],
   "source": [
    "infile='Journals.nt'"
   ]
  },
  {
   "cell_type": "code",
   "execution_count": 5,
   "metadata": {},
   "outputs": [],
   "source": [
    "def nameline(text):\n",
    "    textclean=text.replace(';',',').replace('<https://makg.org/entity/','').replace('> <http://xmlns.com/foaf/0.1/name> ',';').replace('^^<http://www.w3.org/2001/XMLSchema#string> .','')\n",
    "    return textclean.replace('\"','').rstrip().split(';')\n",
    "\n",
    "def issnline(text):\n",
    "    textclean=text.replace('<https://makg.org/entity/','').replace('> <http://id.loc.gov/vocabulary/identifiers/issn>',';').replace('^^<http://www.w3.org/2001/XMLSchema#string> .','')\n",
    "    return textclean.replace('\"','').rstrip().split('; ')"
   ]
  },
  {
   "cell_type": "code",
   "execution_count": 54,
   "metadata": {},
   "outputs": [],
   "source": [
    "name={}\n",
    "issn={}\n",
    "\n",
    "\n",
    "for line in open(infile):\n",
    "    try:\n",
    "        if 'issn>' in line:\n",
    "            [u,v]=issnline(line)\n",
    "            issn[u]=v.replace('-','')\n",
    "        if 'name>' in line:\n",
    "            [u,v]=nameline(line)\n",
    "            name[u]=v\n",
    "    except:\n",
    "        print(line)\n"
   ]
  },
  {
   "cell_type": "code",
   "execution_count": 55,
   "metadata": {},
   "outputs": [],
   "source": [
    "df=pd.DataFrame()\n",
    "df['journalId']=name.keys()\n",
    "df['name']=[name[i] for i in name.keys()]\n",
    "df['issn']=[issn[i] if i in issn.keys() else 'NONE' for i in name.keys()]"
   ]
  },
  {
   "cell_type": "code",
   "execution_count": 79,
   "metadata": {},
   "outputs": [],
   "source": [
    "df.to_csv('journals.csv',index=False)"
   ]
  },
  {
   "cell_type": "markdown",
   "metadata": {},
   "source": [
    "# FILTER JOURNALS"
   ]
  },
  {
   "cell_type": "code",
   "execution_count": 25,
   "metadata": {},
   "outputs": [],
   "source": [
    "df=pd.read_csv('journals.csv')"
   ]
  },
  {
   "cell_type": "code",
   "execution_count": 7,
   "metadata": {},
   "outputs": [
    {
     "data": {
      "text/html": [
       "<div>\n",
       "<style scoped>\n",
       "    .dataframe tbody tr th:only-of-type {\n",
       "        vertical-align: middle;\n",
       "    }\n",
       "\n",
       "    .dataframe tbody tr th {\n",
       "        vertical-align: top;\n",
       "    }\n",
       "\n",
       "    .dataframe thead th {\n",
       "        text-align: right;\n",
       "    }\n",
       "</style>\n",
       "<table border=\"1\" class=\"dataframe\">\n",
       "  <thead>\n",
       "    <tr style=\"text-align: right;\">\n",
       "      <th></th>\n",
       "      <th>journalId</th>\n",
       "      <th>name</th>\n",
       "      <th>issn</th>\n",
       "    </tr>\n",
       "  </thead>\n",
       "  <tbody>\n",
       "    <tr>\n",
       "      <th>0</th>\n",
       "      <td>465895</td>\n",
       "      <td>Eureka</td>\n",
       "      <td>13425641</td>\n",
       "    </tr>\n",
       "    <tr>\n",
       "      <th>1</th>\n",
       "      <td>1137746</td>\n",
       "      <td>The Artist and Journal of Home Culture</td>\n",
       "      <td>21514879</td>\n",
       "    </tr>\n",
       "    <tr>\n",
       "      <th>2</th>\n",
       "      <td>2978343</td>\n",
       "      <td>Cumberland Law Review</td>\n",
       "      <td>03608298</td>\n",
       "    </tr>\n",
       "    <tr>\n",
       "      <th>3</th>\n",
       "      <td>3010151</td>\n",
       "      <td>Comparative Medicine East and West</td>\n",
       "      <td>01472917</td>\n",
       "    </tr>\n",
       "    <tr>\n",
       "      <th>4</th>\n",
       "      <td>3164724</td>\n",
       "      <td>Physiological Measurement</td>\n",
       "      <td>09673334</td>\n",
       "    </tr>\n",
       "  </tbody>\n",
       "</table>\n",
       "</div>"
      ],
      "text/plain": [
       "   journalId                                    name      issn\n",
       "0     465895                                  Eureka  13425641\n",
       "1    1137746  The Artist and Journal of Home Culture  21514879\n",
       "2    2978343                   Cumberland Law Review  03608298\n",
       "3    3010151      Comparative Medicine East and West  01472917\n",
       "4    3164724               Physiological Measurement  09673334"
      ]
     },
     "execution_count": 7,
     "metadata": {},
     "output_type": "execute_result"
    }
   ],
   "source": [
    "df.head()"
   ]
  },
  {
   "cell_type": "code",
   "execution_count": 47,
   "metadata": {},
   "outputs": [],
   "source": [
    "infile='disciplinaryJournals/ Neuroscience.csv'\n",
    "dfSMJ=pd.read_csv(infile, sep=';')\n",
    "dfSMJ=dfSMJ[dfSMJ['Issn']!='-']"
   ]
  },
  {
   "cell_type": "code",
   "execution_count": 89,
   "metadata": {},
   "outputs": [
    {
     "data": {
      "text/html": [
       "<div>\n",
       "<style scoped>\n",
       "    .dataframe tbody tr th:only-of-type {\n",
       "        vertical-align: middle;\n",
       "    }\n",
       "\n",
       "    .dataframe tbody tr th {\n",
       "        vertical-align: top;\n",
       "    }\n",
       "\n",
       "    .dataframe thead th {\n",
       "        text-align: right;\n",
       "    }\n",
       "</style>\n",
       "<table border=\"1\" class=\"dataframe\">\n",
       "  <thead>\n",
       "    <tr style=\"text-align: right;\">\n",
       "      <th></th>\n",
       "      <th>Rank</th>\n",
       "      <th>Sourceid</th>\n",
       "      <th>Title</th>\n",
       "      <th>Type</th>\n",
       "      <th>Issn</th>\n",
       "      <th>SJR</th>\n",
       "      <th>SJR Best Quartile</th>\n",
       "      <th>H index</th>\n",
       "      <th>Total Docs. (2020)</th>\n",
       "      <th>Total Docs. (3years)</th>\n",
       "      <th>Total Refs.</th>\n",
       "      <th>Total Cites (3years)</th>\n",
       "      <th>Citable Docs. (3years)</th>\n",
       "      <th>Cites / Doc. (2years)</th>\n",
       "      <th>Ref. / Doc.</th>\n",
       "      <th>Country</th>\n",
       "      <th>Region</th>\n",
       "      <th>Publisher</th>\n",
       "      <th>Coverage</th>\n",
       "      <th>Categories</th>\n",
       "    </tr>\n",
       "  </thead>\n",
       "  <tbody>\n",
       "    <tr>\n",
       "      <th>0</th>\n",
       "      <td>1</td>\n",
       "      <td>17436</td>\n",
       "      <td>Nature Neuroscience</td>\n",
       "      <td>journal</td>\n",
       "      <td>10976256, 15461726</td>\n",
       "      <td>13,403</td>\n",
       "      <td>Q1</td>\n",
       "      <td>422</td>\n",
       "      <td>194</td>\n",
       "      <td>698</td>\n",
       "      <td>9378</td>\n",
       "      <td>12632</td>\n",
       "      <td>658</td>\n",
       "      <td>17,15</td>\n",
       "      <td>48,34</td>\n",
       "      <td>United Kingdom</td>\n",
       "      <td>Western Europe</td>\n",
       "      <td>Nature Publishing Group</td>\n",
       "      <td>1998-2020</td>\n",
       "      <td>Neuroscience (miscellaneous) (Q1)</td>\n",
       "    </tr>\n",
       "    <tr>\n",
       "      <th>1</th>\n",
       "      <td>2</td>\n",
       "      <td>17437</td>\n",
       "      <td>Nature Reviews Neuroscience</td>\n",
       "      <td>journal</td>\n",
       "      <td>14710048, 1471003X</td>\n",
       "      <td>11,585</td>\n",
       "      <td>Q1</td>\n",
       "      <td>413</td>\n",
       "      <td>156</td>\n",
       "      <td>416</td>\n",
       "      <td>8018</td>\n",
       "      <td>5687</td>\n",
       "      <td>253</td>\n",
       "      <td>11,48</td>\n",
       "      <td>51,40</td>\n",
       "      <td>United Kingdom</td>\n",
       "      <td>Western Europe</td>\n",
       "      <td>Nature Publishing Group</td>\n",
       "      <td>2000-2020</td>\n",
       "      <td>Neuroscience (miscellaneous) (Q1)</td>\n",
       "    </tr>\n",
       "    <tr>\n",
       "      <th>2</th>\n",
       "      <td>3</td>\n",
       "      <td>14181</td>\n",
       "      <td>Annual Review of Neuroscience</td>\n",
       "      <td>journal</td>\n",
       "      <td>0147006X, 15454126</td>\n",
       "      <td>10,219</td>\n",
       "      <td>Q1</td>\n",
       "      <td>241</td>\n",
       "      <td>24</td>\n",
       "      <td>76</td>\n",
       "      <td>3557</td>\n",
       "      <td>1228</td>\n",
       "      <td>76</td>\n",
       "      <td>12,47</td>\n",
       "      <td>148,21</td>\n",
       "      <td>United States</td>\n",
       "      <td>Northern America</td>\n",
       "      <td>Annual Reviews Inc.</td>\n",
       "      <td>1978-2020</td>\n",
       "      <td>Neuroscience (miscellaneous) (Q1)</td>\n",
       "    </tr>\n",
       "    <tr>\n",
       "      <th>3</th>\n",
       "      <td>4</td>\n",
       "      <td>17978</td>\n",
       "      <td>Neuron</td>\n",
       "      <td>journal</td>\n",
       "      <td>10974199, 08966273</td>\n",
       "      <td>9,612</td>\n",
       "      <td>Q1</td>\n",
       "      <td>473</td>\n",
       "      <td>415</td>\n",
       "      <td>1456</td>\n",
       "      <td>25049</td>\n",
       "      <td>18448</td>\n",
       "      <td>1435</td>\n",
       "      <td>11,37</td>\n",
       "      <td>60,36</td>\n",
       "      <td>United States</td>\n",
       "      <td>Northern America</td>\n",
       "      <td>Cell Press</td>\n",
       "      <td>1988-2020</td>\n",
       "      <td>Neuroscience (miscellaneous) (Q1)</td>\n",
       "    </tr>\n",
       "    <tr>\n",
       "      <th>4</th>\n",
       "      <td>5</td>\n",
       "      <td>17435</td>\n",
       "      <td>EMBO Journal</td>\n",
       "      <td>journal</td>\n",
       "      <td>02614189, 14602075</td>\n",
       "      <td>7,484</td>\n",
       "      <td>Q1</td>\n",
       "      <td>392</td>\n",
       "      <td>295</td>\n",
       "      <td>802</td>\n",
       "      <td>18556</td>\n",
       "      <td>7748</td>\n",
       "      <td>681</td>\n",
       "      <td>8,65</td>\n",
       "      <td>62,90</td>\n",
       "      <td>Germany</td>\n",
       "      <td>Western Europe</td>\n",
       "      <td>Wiley-Blackwell</td>\n",
       "      <td>1982-2020</td>\n",
       "      <td>Biochemistry, Genetics and Molecular Biology (...</td>\n",
       "    </tr>\n",
       "  </tbody>\n",
       "</table>\n",
       "</div>"
      ],
      "text/plain": [
       "   Rank  Sourceid                          Title     Type                Issn  \\\n",
       "0     1     17436            Nature Neuroscience  journal  10976256, 15461726   \n",
       "1     2     17437    Nature Reviews Neuroscience  journal  14710048, 1471003X   \n",
       "2     3     14181  Annual Review of Neuroscience  journal  0147006X, 15454126   \n",
       "3     4     17978                         Neuron  journal  10974199, 08966273   \n",
       "4     5     17435                   EMBO Journal  journal  02614189, 14602075   \n",
       "\n",
       "      SJR SJR Best Quartile  H index  Total Docs. (2020)  \\\n",
       "0  13,403                Q1      422                 194   \n",
       "1  11,585                Q1      413                 156   \n",
       "2  10,219                Q1      241                  24   \n",
       "3   9,612                Q1      473                 415   \n",
       "4   7,484                Q1      392                 295   \n",
       "\n",
       "   Total Docs. (3years)  Total Refs.  Total Cites (3years)  \\\n",
       "0                   698         9378                 12632   \n",
       "1                   416         8018                  5687   \n",
       "2                    76         3557                  1228   \n",
       "3                  1456        25049                 18448   \n",
       "4                   802        18556                  7748   \n",
       "\n",
       "   Citable Docs. (3years) Cites / Doc. (2years) Ref. / Doc.         Country  \\\n",
       "0                     658                 17,15       48,34  United Kingdom   \n",
       "1                     253                 11,48       51,40  United Kingdom   \n",
       "2                      76                 12,47      148,21   United States   \n",
       "3                    1435                 11,37       60,36   United States   \n",
       "4                     681                  8,65       62,90         Germany   \n",
       "\n",
       "             Region                Publisher   Coverage  \\\n",
       "0    Western Europe  Nature Publishing Group  1998-2020   \n",
       "1    Western Europe  Nature Publishing Group  2000-2020   \n",
       "2  Northern America      Annual Reviews Inc.  1978-2020   \n",
       "3  Northern America               Cell Press  1988-2020   \n",
       "4    Western Europe          Wiley-Blackwell  1982-2020   \n",
       "\n",
       "                                          Categories  \n",
       "0                  Neuroscience (miscellaneous) (Q1)  \n",
       "1                  Neuroscience (miscellaneous) (Q1)  \n",
       "2                  Neuroscience (miscellaneous) (Q1)  \n",
       "3                  Neuroscience (miscellaneous) (Q1)  \n",
       "4  Biochemistry, Genetics and Molecular Biology (...  "
      ]
     },
     "execution_count": 89,
     "metadata": {},
     "output_type": "execute_result"
    }
   ],
   "source": [
    "dfSMJ.head()"
   ]
  },
  {
   "cell_type": "code",
   "execution_count": 50,
   "metadata": {},
   "outputs": [],
   "source": [
    "listIssn=(', ').join(dfSMJ['Issn']).split(', ')"
   ]
  },
  {
   "cell_type": "code",
   "execution_count": 51,
   "metadata": {},
   "outputs": [],
   "source": [
    "dfNeuroscience=df[df['issn'].isin(listIssn)]"
   ]
  },
  {
   "cell_type": "code",
   "execution_count": 104,
   "metadata": {},
   "outputs": [],
   "source": [
    "dfNeuroscience.to_csv('neuroscience_journals.csv',index=False)"
   ]
  },
  {
   "cell_type": "code",
   "execution_count": null,
   "metadata": {},
   "outputs": [],
   "source": []
  }
 ],
 "metadata": {
  "kernelspec": {
   "display_name": "Python 3",
   "language": "python",
   "name": "python3"
  },
  "language_info": {
   "codemirror_mode": {
    "name": "ipython",
    "version": 3
   },
   "file_extension": ".py",
   "mimetype": "text/x-python",
   "name": "python",
   "nbconvert_exporter": "python",
   "pygments_lexer": "ipython3",
   "version": "3.8.3"
  }
 },
 "nbformat": 4,
 "nbformat_minor": 4
}
