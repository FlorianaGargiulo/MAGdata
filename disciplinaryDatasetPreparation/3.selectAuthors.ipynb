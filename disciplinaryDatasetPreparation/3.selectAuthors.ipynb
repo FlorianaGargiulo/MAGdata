{
 "cells": [
  {
   "cell_type": "code",
   "execution_count": 1,
   "metadata": {},
   "outputs": [],
   "source": [
    "import os\n",
    "import pandas as pd\n",
    "import re\n",
    "from collections import ChainMap\n",
    "import json"
   ]
  },
  {
   "cell_type": "code",
   "execution_count": 2,
   "metadata": {},
   "outputs": [],
   "source": [
    "with open('../neuroscience/Papers_neuroscience_all.json', \"r\") as read_file:\n",
    "    papers = json.load(read_file)"
   ]
  },
  {
   "cell_type": "code",
   "execution_count": 3,
   "metadata": {},
   "outputs": [],
   "source": [
    "listPapers0=[p['id'] for p in papers if p['queryLevel']==0]\n",
    "listPapers1=[p['id'] for p in papers if p['queryLevel']==1]"
   ]
  },
  {
   "cell_type": "code",
   "execution_count": 7,
   "metadata": {},
   "outputs": [],
   "source": [
    "listPapers=listPapers0+listPapers1"
   ]
  },
  {
   "cell_type": "code",
   "execution_count": 6,
   "metadata": {},
   "outputs": [
    {
     "name": "stdout",
     "output_type": "stream",
     "text": [
      "['.DS_Store', 'affiliations.json', 'Authors_simplified.txt', 'journals.csv', 'paperAbstracts_simplified.txt', 'paperAuthors_simplified.txt', 'paperReferences_simplified.txt', 'Papers_simplified.txt']\n"
     ]
    }
   ],
   "source": [
    "your_path = '../../../../../../Volumes/TOSHIBA EXT/Simplified_files'\n",
    "print( os.listdir(your_path))\n",
    "infile=your_path+'/paperAuthors_simplified.txt'"
   ]
  },
  {
   "cell_type": "code",
   "execution_count": 8,
   "metadata": {},
   "outputs": [],
   "source": [
    "selDf=pd.DataFrame()\n",
    "chunksize = 10 ** 6\n",
    "for chunk in pd.read_csv(infile, chunksize=chunksize, names=['paperId', 'authorId'],sep=';'):\n",
    "    selDf=selDf.append(chunk[chunk['paperId'].isin(listPapers)])"
   ]
  },
  {
   "cell_type": "code",
   "execution_count": 9,
   "metadata": {},
   "outputs": [],
   "source": [
    "d2=selDf.groupby('paperId')['authorId'].apply(list)"
   ]
  },
  {
   "cell_type": "code",
   "execution_count": 10,
   "metadata": {},
   "outputs": [],
   "source": [
    "e=0\n",
    "for p in papers:\n",
    "    try:\n",
    "        p['authors']=d2[int(p['id'])]\n",
    "    except:\n",
    "        e=e+1"
   ]
  },
  {
   "cell_type": "code",
   "execution_count": 11,
   "metadata": {},
   "outputs": [],
   "source": [
    "with open('../neuroscience/Papers_neuroscience_all.json', 'w') as fout:\n",
    "    json.dump(papers , fout)"
   ]
  },
  {
   "cell_type": "markdown",
   "metadata": {},
   "source": [
    "# preparation author affiliation csv"
   ]
  },
  {
   "cell_type": "code",
   "execution_count": 9,
   "metadata": {},
   "outputs": [
    {
     "data": {
      "text/plain": [
       "{'id': 2038431747,\n",
       " ' created': ' \"2016-06-24\"',\n",
       " ' doi': '10.1162/NECO.1994.6.3.441',\n",
       " ' volume': ' \"6\"',\n",
       " ' appearsInJournal': ' 207023548',\n",
       " ' citationCount': ' \"16\"',\n",
       " ' issueIdentifier': ' \"3\"',\n",
       " ' title': ' \"Topology learning solved by extended objects: A neural network model\"',\n",
       " ' referenceCount': ' \"7\"',\n",
       " ' endingPage': ' \"458\"',\n",
       " ' startingPage': ' \"441\"',\n",
       " ' publicationDate': ' \"1994-05-01\"',\n",
       " ' publisher': ' \"MIT Press\"',\n",
       " 'queryLevel': 0,\n",
       " 'authors': [2163422316, 2419355596, 2289589767]}"
      ]
     },
     "execution_count": 9,
     "metadata": {},
     "output_type": "execute_result"
    }
   ],
   "source": [
    "papers[0]"
   ]
  },
  {
   "cell_type": "code",
   "execution_count": 5,
   "metadata": {},
   "outputs": [],
   "source": [
    "ll=[el['authors'] for el in papers if 'authors' in el.keys()]\n",
    "flat_list = [item for sublist in ll for item in sublist]\n",
    "allAu=list(set(flat_list))"
   ]
  },
  {
   "cell_type": "code",
   "execution_count": 10,
   "metadata": {},
   "outputs": [],
   "source": [
    "p0=[p for p in papers if p['queryLevel']==0]\n",
    "p1=[p for p in papers if p['queryLevel']==1]\n",
    "\n",
    "ll0=[el['authors'] for el in p0 if 'authors' in el.keys()]\n",
    "ll1=[el['authors'] for el in p1 if 'authors' in el.keys()]\n",
    "\n",
    "flat_list = [item for sublist in ll0 for item in sublist]\n",
    "au0=set(flat_list)\n",
    "\n",
    "flat_list = [item for sublist in ll1 for item in sublist]\n",
    "au1=set(flat_list)"
   ]
  },
  {
   "cell_type": "code",
   "execution_count": 13,
   "metadata": {},
   "outputs": [],
   "source": [
    "only1=list(au1-au0)\n",
    "\n",
    "queryLevel={}\n",
    "for el in list(au0):\n",
    "    queryLevel[el]=0\n",
    "for el in only1:\n",
    "    queryLevel[el]=1"
   ]
  },
  {
   "cell_type": "code",
   "execution_count": 14,
   "metadata": {},
   "outputs": [],
   "source": [
    "your_path = '../../../../../../Volumes/TOSHIBA EXT/Simplified_files'\n",
    "infile=your_path+'/Authors_simplified.txt'"
   ]
  },
  {
   "cell_type": "code",
   "execution_count": 15,
   "metadata": {},
   "outputs": [],
   "source": [
    "auDf=pd.DataFrame()\n",
    "chunksize = 10 ** 6\n",
    "for chunk in pd.read_csv(infile, chunksize=chunksize, names=['authorId', 'feature','value'],sep=';'):\n",
    "    auDf=auDf.append(chunk[chunk['authorId'].isin(allAu)])"
   ]
  },
  {
   "cell_type": "code",
   "execution_count": 16,
   "metadata": {},
   "outputs": [],
   "source": [
    "aff={}\n",
    "name={}\n",
    "affDf=auDf[auDf['feature']=='affiliation']\n",
    "nameDf=auDf[auDf['feature']=='name']\n",
    "\n",
    "for (u,v) in zip(affDf['authorId'],affDf['value']):\n",
    "    aff[u]=v\n",
    "    \n",
    "for (u,v) in zip(nameDf['authorId'],nameDf['value']):\n",
    "    name[u]=v"
   ]
  },
  {
   "cell_type": "code",
   "execution_count": 17,
   "metadata": {},
   "outputs": [],
   "source": [
    "auAffDf=pd.DataFrame()\n",
    "auAffDf['authorId']=name.keys()\n",
    "auAffDf['name']=[name[i] for i in name.keys()]\n",
    "auAffDf['affiliation']=[aff[i] if i in aff.keys() else 'NONE' for i in name.keys()]\n",
    "auAffDf['queryLevel']=[queryLevel[i] for i in name.keys()]"
   ]
  },
  {
   "cell_type": "code",
   "execution_count": 18,
   "metadata": {},
   "outputs": [],
   "source": [
    "auAffDf.to_csv('../neuroscience/authorId_name_affiliation_neuroscience.csv', index=False)"
   ]
  },
  {
   "cell_type": "code",
   "execution_count": null,
   "metadata": {},
   "outputs": [],
   "source": []
  }
 ],
 "metadata": {
  "kernelspec": {
   "display_name": "Python 3",
   "language": "python",
   "name": "python3"
  },
  "language_info": {
   "codemirror_mode": {
    "name": "ipython",
    "version": 3
   },
   "file_extension": ".py",
   "mimetype": "text/x-python",
   "name": "python",
   "nbconvert_exporter": "python",
   "pygments_lexer": "ipython3",
   "version": "3.8.3"
  }
 },
 "nbformat": 4,
 "nbformat_minor": 4
}
