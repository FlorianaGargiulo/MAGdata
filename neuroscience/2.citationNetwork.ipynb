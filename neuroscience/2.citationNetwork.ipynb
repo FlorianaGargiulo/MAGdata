{
 "cells": [
  {
   "cell_type": "code",
   "execution_count": 1,
   "metadata": {},
   "outputs": [],
   "source": [
    "import os\n",
    "import pandas as pd\n",
    "import re\n",
    "from collections import ChainMap\n",
    "import json"
   ]
  },
  {
   "cell_type": "code",
   "execution_count": 2,
   "metadata": {},
   "outputs": [],
   "source": [
    "with open('../neuroscience/Papers_neuroscience.json', \"r\") as read_file:\n",
    "    papers = json.load(read_file)"
   ]
  },
  {
   "cell_type": "code",
   "execution_count": 3,
   "metadata": {},
   "outputs": [
    {
     "name": "stdout",
     "output_type": "stream",
     "text": [
      "['.DS_Store', 'affiliations.json', 'Authors_simplified.txt', 'journals.csv', 'paperAbstracts_simplified.txt', 'paperAuthors_simplified.txt', 'paperReferences_simplified.txt', 'Papers_simplified.txt']\n"
     ]
    }
   ],
   "source": [
    "your_path = '../../../../../../Volumes/TOSHIBA EXT/Simplified_files'\n",
    "print( os.listdir(your_path))\n",
    "infile=your_path+'/paperReferences_simplified.txt'"
   ]
  },
  {
   "cell_type": "code",
   "execution_count": 4,
   "metadata": {},
   "outputs": [],
   "source": [
    "listPapers=[int(p['id']) for p in papers]"
   ]
  },
  {
   "cell_type": "code",
   "execution_count": 5,
   "metadata": {},
   "outputs": [
    {
     "name": "stderr",
     "output_type": "stream",
     "text": [
      "/opt/anaconda3/lib/python3.8/site-packages/IPython/core/interactiveshell.py:3071: DtypeWarning: Columns (0,1) have mixed types.Specify dtype option on import or set low_memory=False.\n",
      "  has_raised = await self.run_ast_nodes(code_ast.body, cell_name,\n"
     ]
    }
   ],
   "source": [
    "thisDf=pd.DataFrame()\n",
    "chunksize = 10 ** 6\n",
    "for chunk in pd.read_csv(infile, chunksize=chunksize, names=['citing', 'cited'],sep=','):\n",
    "    thisDf=thisDf.append(chunk[chunk['citing'].isin(listPapers)])\n",
    "    thisDf=thisDf.append(chunk[chunk['cited'].isin(listPapers)])"
   ]
  },
  {
   "cell_type": "code",
   "execution_count": 6,
   "metadata": {},
   "outputs": [
    {
     "data": {
      "text/plain": [
       "93594962"
      ]
     },
     "execution_count": 6,
     "metadata": {},
     "output_type": "execute_result"
    }
   ],
   "source": [
    "len(thisDf)"
   ]
  },
  {
   "cell_type": "code",
   "execution_count": 8,
   "metadata": {},
   "outputs": [],
   "source": [
    "outfile='../neuroscience/citationNetwork.csv'\n",
    "thisDf.to_csv(outfile)"
   ]
  },
  {
   "cell_type": "code",
   "execution_count": 9,
   "metadata": {},
   "outputs": [],
   "source": [
    "allPapersCN=list(set(thisDf['citing'])|set(thisDf['cited']))"
   ]
  },
  {
   "cell_type": "code",
   "execution_count": 10,
   "metadata": {},
   "outputs": [],
   "source": [
    "notInList=list(set(allPapersCN)-set(listPapers))"
   ]
  },
  {
   "cell_type": "code",
   "execution_count": 11,
   "metadata": {},
   "outputs": [],
   "source": [
    "outFile='../neuroscience/temp/nextToSearch.txt'\n",
    "ww=open(outFile,'w')\n",
    "for el in notInList:\n",
    "    ww.write(str(el)+'\\n')\n",
    "ww.close()"
   ]
  },
  {
   "cell_type": "markdown",
   "metadata": {},
   "source": [
    "# ADD CITED and CITING papers"
   ]
  },
  {
   "cell_type": "code",
   "execution_count": 12,
   "metadata": {},
   "outputs": [
    {
     "name": "stdout",
     "output_type": "stream",
     "text": [
      "['.DS_Store', 'affiliations.json', 'Authors_simplified.txt', 'journals.csv', 'paperAbstracts_simplified.txt', 'paperAuthors_simplified.txt', 'paperReferences_simplified.txt', 'Papers_simplified.txt']\n"
     ]
    }
   ],
   "source": [
    "your_path = '../../../../../../Volumes/TOSHIBA EXT/Simplified_files'\n",
    "print( os.listdir(your_path))\n",
    "infile=your_path+'/Papers_simplified.txt'"
   ]
  },
  {
   "cell_type": "code",
   "execution_count": 13,
   "metadata": {},
   "outputs": [
    {
     "name": "stderr",
     "output_type": "stream",
     "text": [
      "/opt/anaconda3/lib/python3.8/site-packages/IPython/core/interactiveshell.py:3071: DtypeWarning: Columns (0) have mixed types.Specify dtype option on import or set low_memory=False.\n",
      "  has_raised = await self.run_ast_nodes(code_ast.body, cell_name,\n"
     ]
    }
   ],
   "source": [
    "newDf=pd.DataFrame()\n",
    "chunksize = 5*10 ** 6\n",
    "for chunk in pd.read_csv(infile, chunksize=chunksize, names=['id', 'feature','value'],sep=';'):\n",
    "    newDf=newDf.append(chunk[chunk['id'].isin(notInList)])"
   ]
  },
  {
   "cell_type": "code",
   "execution_count": 14,
   "metadata": {},
   "outputs": [],
   "source": [
    "redDf=newDf[newDf['feature']!=' http://www.w3.org/1999/02/22-rdf-syntax-ns#type']\n",
    "redDf=newDf[newDf['feature']!=' rank']\n",
    "redDf=newDf[newDf['feature']!=' estimatedCitationCount']"
   ]
  },
  {
   "cell_type": "code",
   "execution_count": 15,
   "metadata": {},
   "outputs": [],
   "source": [
    "feat=list(set(redDf['feature']))"
   ]
  },
  {
   "cell_type": "code",
   "execution_count": 16,
   "metadata": {},
   "outputs": [],
   "source": [
    "dictFeat={}\n",
    "for f in feat:\n",
    "    #dictFeat[f]={}\n",
    "    df=redDf[redDf['feature']==f]\n",
    "    dictFeat[f]=dict(zip(df['id'],df['value']))"
   ]
  },
  {
   "cell_type": "code",
   "execution_count": 17,
   "metadata": {},
   "outputs": [],
   "source": [
    "ids=list(set(redDf['id']))"
   ]
  },
  {
   "cell_type": "code",
   "execution_count": 21,
   "metadata": {},
   "outputs": [],
   "source": [
    "dictPapers=[]\n",
    "for p in ids:\n",
    "    thisdict={}\n",
    "    thisdict['id']=p\n",
    "    thisdict['queryLevel']=1\n",
    "    for f in dictFeat.keys():\n",
    "        try:\n",
    "            thisdict[f]=dictFeat[f][p]\n",
    "        except:\n",
    "            continue\n",
    "    dictPapers.append(thisdict)"
   ]
  },
  {
   "cell_type": "code",
   "execution_count": 22,
   "metadata": {},
   "outputs": [
    {
     "data": {
      "text/plain": [
       "{'id': 2063597569,\n",
       " 'queryLevel': 1,\n",
       " ' http://www.w3.org/1999/02/22-rdf-syntax-ns#type': ' http://purl.org/spar/fabio/JournalArticle',\n",
       " ' publisher': ' \"Wiley\"',\n",
       " ' volume': ' \"18\"',\n",
       " ' publicationDate': ' \"2004-12-01\"',\n",
       " ' title': ' \"Simultaneous determination of D- and L-serine in rat brain microdialysis sample using a column-switching HPLC with fluorimetric detection.\"',\n",
       " ' endingPage': ' \"819\"',\n",
       " ' rank': ' \"19997\"',\n",
       " ' citationCount': ' \"85\"',\n",
       " ' referenceCount': ' \"25\"',\n",
       " ' appearsInJournal': ' 123979729',\n",
       " ' doi': '10.1002/BMC.394',\n",
       " ' created': ' \"2016-06-24\"',\n",
       " ' issueIdentifier': ' \"10\"',\n",
       " ' startingPage': ' \"813\"'}"
      ]
     },
     "execution_count": 22,
     "metadata": {},
     "output_type": "execute_result"
    }
   ],
   "source": [
    "dictPapers[0]"
   ]
  },
  {
   "cell_type": "code",
   "execution_count": 23,
   "metadata": {},
   "outputs": [
    {
     "data": {
      "text/plain": [
       "{'id': 2038431747,\n",
       " ' created': ' \"2016-06-24\"',\n",
       " ' doi': '10.1162/NECO.1994.6.3.441',\n",
       " ' volume': ' \"6\"',\n",
       " ' appearsInJournal': ' 207023548',\n",
       " ' citationCount': ' \"16\"',\n",
       " ' issueIdentifier': ' \"3\"',\n",
       " ' title': ' \"Topology learning solved by extended objects: A neural network model\"',\n",
       " ' referenceCount': ' \"7\"',\n",
       " ' endingPage': ' \"458\"',\n",
       " ' startingPage': ' \"441\"',\n",
       " ' publicationDate': ' \"1994-05-01\"',\n",
       " ' publisher': ' \"MIT Press\"'}"
      ]
     },
     "execution_count": 23,
     "metadata": {},
     "output_type": "execute_result"
    }
   ],
   "source": [
    "papers[0]"
   ]
  },
  {
   "cell_type": "code",
   "execution_count": 24,
   "metadata": {},
   "outputs": [],
   "source": [
    "for p in papers:\n",
    "    p['queryLevel']=0"
   ]
  },
  {
   "cell_type": "code",
   "execution_count": 25,
   "metadata": {},
   "outputs": [],
   "source": [
    "allpapers=papers+dictPapers"
   ]
  },
  {
   "cell_type": "code",
   "execution_count": 26,
   "metadata": {},
   "outputs": [],
   "source": [
    "with open('../neuroscience/Papers_neuroscience_all.json', 'w') as fout:\n",
    "    json.dump(allpapers , fout)"
   ]
  },
  {
   "cell_type": "code",
   "execution_count": null,
   "metadata": {},
   "outputs": [],
   "source": []
  }
 ],
 "metadata": {
  "kernelspec": {
   "display_name": "Python 3",
   "language": "python",
   "name": "python3"
  },
  "language_info": {
   "codemirror_mode": {
    "name": "ipython",
    "version": 3
   },
   "file_extension": ".py",
   "mimetype": "text/x-python",
   "name": "python",
   "nbconvert_exporter": "python",
   "pygments_lexer": "ipython3",
   "version": "3.8.3"
  }
 },
 "nbformat": 4,
 "nbformat_minor": 4
}
